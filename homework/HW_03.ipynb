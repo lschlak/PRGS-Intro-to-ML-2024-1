{
 "cells": [
  {
   "cell_type": "markdown",
   "metadata": {},
   "source": [
    "---\n",
    "title: \"Homework 3\"\n",
    "format: html\n",
    "---\n",
    "\n",
    "__Due Date:__ 2022-10-30 at 8:30 AM PT\n",
    "---\n",
    "\n",
    "__Name:__ Luke Schlake\n",
    "\n",
    "\n",
    "## Preparation\n",
    "\n",
    "1. Create a 'code' folder in the root directory of your repository.\n",
    "1. Inside the 'code' folder, create a file '01_clean_data.\\<your_extension_here\\>'.\n",
    "Your extension should be the one you use for your programming language of choice (e.g., '.R' for R, '.py' for Python, '.jl' for Julia).\n",
    "1. Copy any code from HW_02 you need to subset and merge the NRI and SVI datasets into the '01_clean_data' file.\n",
    "1. Add a 'processed' directory to the 'data' folder.\n",
    "1. Add a line at the end of the file that saves the merged dataset to 'data/processed' directory.\n",
    "1. Run the '01_clean_data' file to ensure that the merged dataset runs and creates the proper file.\n",
    "1. Add and commit the '01_clean_data' file to the repository."
   ]
  },
  {
   "cell_type": "markdown",
   "metadata": {},
   "source": [
    "## Homework - Principal Component Analysis\n",
    "\n",
    "The CDC Social Vulnerability Index (SVI) takes multiple differen population-level inputs (e.g., % of the population living in poverty, % of the population without health insurance) to identify particularly vulnerable counties.\n",
    "While the CDC SVI scores rely on adding up the percentiles of various characteristics, there are alternative indexes (e.g., [University of South Carolina SoVI index](https://sc.edu/study/colleges_schools/artsandsciences/centers_and_institutes/hvri/data_and_resources/sovi/index.php)) that use methods like PCA.\n",
    "Here, we are going to use the CDC SVI data to create an alternative index based on PCA.\n",
    "\n",
    "1. The following variables are used in the SVI:\n",
    "`EP_POV150, EP_UNEMP, EP_HBURD, EP_NOHSDP, EP_UNINSUR, EP_AGE65, EP_AGE17, EP_DISABL, EP_SNGPNT, EP_LIMENG, EP_MINRTY, EP_MUNIT, EP_MOBILE, EP_CROWD, EP_NOVEH, EP_GROUPQ, EP_NOINT`\n",
    "    a. Subset the merged dataset to only include the variables above and look at the pattern of missing data.\n",
    "    Are missing observations scattered throughout the data or are entire rows or columns missing?\n",
    "    b. PCA cannot handle missing values by default.\n",
    "    There are several options for handling missing data generally, including imputation, removing rows with missing data, or removing columns with missing data.\n",
    "    Deal with the missing data in a way that makes sense for the pattern of missing data and the goals of the analysis. Explain why you made this decision.\n",
    "    _Note: How you handle this is specific to the missing data pattern and the goals of the analysis.\n",
    "    For example, when entire rows or columns are missing, imputation may not be appropriate and dropping those rows or columns is usually the best option.\n",
    "    Conversely, if you have a general missingness pattern where missing observations are scattered throughout the data, imputation is likely the best option._\n",
    "    a. After dealing with the missing data, perform PCA on the SVI variables."
   ]
  },
  {
   "cell_type": "code",
   "execution_count": 12,
   "metadata": {},
   "outputs": [
    {
     "data": {
      "text/plain": [
       "EP_POV150     96\n",
       "EP_UNEMP      96\n",
       "EP_HBURD      96\n",
       "EP_NOHSDP     96\n",
       "EP_UNINSUR    96\n",
       "EP_AGE65      96\n",
       "EP_AGE17      96\n",
       "EP_DISABL     96\n",
       "EP_SNGPNT     96\n",
       "EP_LIMENG     96\n",
       "EP_MINRTY     96\n",
       "EP_MUNIT      96\n",
       "EP_MOBILE     96\n",
       "EP_CROWD      96\n",
       "EP_NOVEH      96\n",
       "EP_GROUPQ     96\n",
       "EP_NOINT      96\n",
       "dtype: int64"
      ]
     },
     "execution_count": 12,
     "metadata": {},
     "output_type": "execute_result"
    }
   ],
   "source": [
    "import pandas as pd\n",
    "merged_data = pd.read_csv(\"C:\\\\Users\\\\lschlake\\\\Documents\\\\2024-2025Courses\\\\PRGS-Intro-to-ML-2024-1\\\\data\\\\processed\\\\merged_data.csv\")\n",
    "\n",
    "list = [\"EP_POV150\", \"EP_UNEMP\", \"EP_HBURD\", \"EP_NOHSDP\", \"EP_UNINSUR\", \"EP_AGE65\", \"EP_AGE17\", \"EP_DISABL\", \"EP_SNGPNT\", \"EP_LIMENG\", \"EP_MINRTY\", \"EP_MUNIT\", \"EP_MOBILE\", \"EP_CROWD\", \"EP_NOVEH\", \"EP_GROUPQ\", \"EP_NOINT\"]\n",
    "\n",
    "filtered=pd.DataFrame()\n",
    "\n",
    "for x in list:\n",
    "    filtered[x]=merged_data[x]\n",
    "\n",
    "pd.set_option(\"display.max_rows\", None)\n",
    "\n",
    "missing=filtered.isna()\n",
    "missing.sum()\n",
    "missing[missing[\"EP_UNEMP\"]==1].sum()\n",
    "   \n"
   ]
  },
  {
   "cell_type": "markdown",
   "metadata": {},
   "source": [
    "An examination of the data reveals 96 missing values in each columns, suggesting there are a handful of rows completely missing from the data. Filtering for rows in which the EP_UNEMP are missing reveals 96 rows in which data is missing in every column. I drop these columns below: \n"
   ]
  },
  {
   "cell_type": "code",
   "execution_count": 13,
   "metadata": {},
   "outputs": [],
   "source": [
    "\n",
    "pd.set_option(\"display.max_rows\", 15)\n",
    "\n",
    "    #Drop rows if EP_UNEMP equals 0\n",
    "data = filtered[filtered[\"EP_UNEMP\"].isna()==0]\n",
    "\n",
    "    #Check how many values are zero\n",
    "data.isna().sum()\n",
    "\n",
    "\n",
    "    #Principle Component Analysis \n",
    "\n",
    "    \n",
    "    #PCA steps: \n",
    "    #1. Get original data\n",
    "    #2. Calculate covariance matrix\n",
    "    #3. Sort eigenvector by eigenvalues (to determine vectors of highest explanatory power)\n",
    "    #4. Choose N largest engenvalues\n",
    "    #5. Project original data onto eigenvectors\n",
    "\n",
    "\n",
    "    #The math underlying PCA, covariance + eigenvals/vecs\n",
    "from sklearn.preprocessing import StandardScaler\n",
    "import numpy as np\n",
    "\n",
    "    #Scale the data\n",
    "scaler = StandardScaler()\n",
    "scaled = scaler.fit_transform(data)\n",
    "\n",
    "    #Create the covariance matrix\n",
    "cov_matrix =np.cov(scaled,rowvar=True)\n",
    "\n",
    "    #Get the eigen values, vectors\n",
    "values,vectors=np.linalg.eig(cov_matrix)\n",
    "   \n",
    "\n",
    "\n",
    "    #Applying Principle Component Analysis \n",
    "\n",
    "from sklearn.decomposition import PCA \n",
    "pca_instance = PCA(n_components=15)\n",
    "#applying PCA \n",
    "decomp = pca_instance.fit_transform(scaled)\n",
    "vectors = pd.DataFrame(decomp)\n",
    "\n"
   ]
  },
  {
   "cell_type": "markdown",
   "metadata": {},
   "source": [
    "\n",
    "1. Plot the eigenvectors or loadings associated of the first three principal components.\n",
    "Make sure that the axis labels correspond to the variable names and not the indices of the variables.\n",
    "How would you interpret the first three prinicpal components?\n",
    "_Note: you can find the documentation for the SVI variables [here](https://www.atsdr.cdc.gov/placeandhealth/svi/documentation/SVI_documentation_2022.html)._\n"
   ]
  },
  {
   "cell_type": "code",
   "execution_count": 14,
   "metadata": {},
   "outputs": [
    {
     "data": {
      "text/html": [
       "<div>\n",
       "<style scoped>\n",
       "    .dataframe tbody tr th:only-of-type {\n",
       "        vertical-align: middle;\n",
       "    }\n",
       "\n",
       "    .dataframe tbody tr th {\n",
       "        vertical-align: top;\n",
       "    }\n",
       "\n",
       "    .dataframe thead th {\n",
       "        text-align: right;\n",
       "    }\n",
       "</style>\n",
       "<table border=\"1\" class=\"dataframe\">\n",
       "  <thead>\n",
       "    <tr style=\"text-align: right;\">\n",
       "      <th></th>\n",
       "      <th>0</th>\n",
       "      <th>1</th>\n",
       "      <th>2</th>\n",
       "      <th>var</th>\n",
       "    </tr>\n",
       "  </thead>\n",
       "  <tbody>\n",
       "    <tr>\n",
       "      <th>EP_AGE65</th>\n",
       "      <td>-0.144972</td>\n",
       "      <td>-0.374995</td>\n",
       "      <td>0.098927</td>\n",
       "      <td>EP_AGE65</td>\n",
       "    </tr>\n",
       "    <tr>\n",
       "      <th>EP_MUNIT</th>\n",
       "      <td>-0.045405</td>\n",
       "      <td>0.382089</td>\n",
       "      <td>0.349483</td>\n",
       "      <td>EP_MUNIT</td>\n",
       "    </tr>\n",
       "    <tr>\n",
       "      <th>EP_GROUPQ</th>\n",
       "      <td>0.094928</td>\n",
       "      <td>-0.038937</td>\n",
       "      <td>0.270954</td>\n",
       "      <td>EP_GROUPQ</td>\n",
       "    </tr>\n",
       "    <tr>\n",
       "      <th>EP_HBURD</th>\n",
       "      <td>0.138554</td>\n",
       "      <td>0.169402</td>\n",
       "      <td>0.460363</td>\n",
       "      <td>EP_HBURD</td>\n",
       "    </tr>\n",
       "    <tr>\n",
       "      <th>EP_AGE17</th>\n",
       "      <td>0.141542</td>\n",
       "      <td>0.249302</td>\n",
       "      <td>-0.468053</td>\n",
       "      <td>EP_AGE17</td>\n",
       "    </tr>\n",
       "    <tr>\n",
       "      <th>EP_DISABL</th>\n",
       "      <td>0.154529</td>\n",
       "      <td>-0.411807</td>\n",
       "      <td>0.139043</td>\n",
       "      <td>EP_DISABL</td>\n",
       "    </tr>\n",
       "    <tr>\n",
       "      <th>EP_LIMENG</th>\n",
       "      <td>0.178962</td>\n",
       "      <td>0.273169</td>\n",
       "      <td>-0.157528</td>\n",
       "      <td>EP_LIMENG</td>\n",
       "    </tr>\n",
       "    <tr>\n",
       "      <th>EP_NOVEH</th>\n",
       "      <td>0.220420</td>\n",
       "      <td>0.099840</td>\n",
       "      <td>0.317860</td>\n",
       "      <td>EP_NOVEH</td>\n",
       "    </tr>\n",
       "    <tr>\n",
       "      <th>EP_MOBILE</th>\n",
       "      <td>0.236040</td>\n",
       "      <td>-0.317912</td>\n",
       "      <td>-0.112740</td>\n",
       "      <td>EP_MOBILE</td>\n",
       "    </tr>\n",
       "    <tr>\n",
       "      <th>EP_CROWD</th>\n",
       "      <td>0.252620</td>\n",
       "      <td>0.219098</td>\n",
       "      <td>-0.121275</td>\n",
       "      <td>EP_CROWD</td>\n",
       "    </tr>\n",
       "    <tr>\n",
       "      <th>EP_NOINT</th>\n",
       "      <td>0.264222</td>\n",
       "      <td>-0.316461</td>\n",
       "      <td>-0.046099</td>\n",
       "      <td>EP_NOINT</td>\n",
       "    </tr>\n",
       "    <tr>\n",
       "      <th>EP_UNEMP</th>\n",
       "      <td>0.278108</td>\n",
       "      <td>-0.043502</td>\n",
       "      <td>0.270153</td>\n",
       "      <td>EP_UNEMP</td>\n",
       "    </tr>\n",
       "    <tr>\n",
       "      <th>EP_UNINSUR</th>\n",
       "      <td>0.292652</td>\n",
       "      <td>0.003920</td>\n",
       "      <td>-0.281020</td>\n",
       "      <td>EP_UNINSUR</td>\n",
       "    </tr>\n",
       "    <tr>\n",
       "      <th>EP_SNGPNT</th>\n",
       "      <td>0.299522</td>\n",
       "      <td>0.145346</td>\n",
       "      <td>0.066462</td>\n",
       "      <td>EP_SNGPNT</td>\n",
       "    </tr>\n",
       "    <tr>\n",
       "      <th>EP_MINRTY</th>\n",
       "      <td>0.333623</td>\n",
       "      <td>0.224517</td>\n",
       "      <td>0.036107</td>\n",
       "      <td>EP_MINRTY</td>\n",
       "    </tr>\n",
       "    <tr>\n",
       "      <th>EP_POV150</th>\n",
       "      <td>0.367555</td>\n",
       "      <td>-0.188618</td>\n",
       "      <td>0.108071</td>\n",
       "      <td>EP_POV150</td>\n",
       "    </tr>\n",
       "    <tr>\n",
       "      <th>EP_NOHSDP</th>\n",
       "      <td>0.368428</td>\n",
       "      <td>-0.092792</td>\n",
       "      <td>-0.139896</td>\n",
       "      <td>EP_NOHSDP</td>\n",
       "    </tr>\n",
       "  </tbody>\n",
       "</table>\n",
       "</div>"
      ],
      "text/plain": [
       "                   0         1         2         var\n",
       "EP_AGE65   -0.144972 -0.374995  0.098927    EP_AGE65\n",
       "EP_MUNIT   -0.045405  0.382089  0.349483    EP_MUNIT\n",
       "EP_GROUPQ   0.094928 -0.038937  0.270954   EP_GROUPQ\n",
       "EP_HBURD    0.138554  0.169402  0.460363    EP_HBURD\n",
       "EP_AGE17    0.141542  0.249302 -0.468053    EP_AGE17\n",
       "EP_DISABL   0.154529 -0.411807  0.139043   EP_DISABL\n",
       "EP_LIMENG   0.178962  0.273169 -0.157528   EP_LIMENG\n",
       "EP_NOVEH    0.220420  0.099840  0.317860    EP_NOVEH\n",
       "EP_MOBILE   0.236040 -0.317912 -0.112740   EP_MOBILE\n",
       "EP_CROWD    0.252620  0.219098 -0.121275    EP_CROWD\n",
       "EP_NOINT    0.264222 -0.316461 -0.046099    EP_NOINT\n",
       "EP_UNEMP    0.278108 -0.043502  0.270153    EP_UNEMP\n",
       "EP_UNINSUR  0.292652  0.003920 -0.281020  EP_UNINSUR\n",
       "EP_SNGPNT   0.299522  0.145346  0.066462   EP_SNGPNT\n",
       "EP_MINRTY   0.333623  0.224517  0.036107   EP_MINRTY\n",
       "EP_POV150   0.367555 -0.188618  0.108071   EP_POV150\n",
       "EP_NOHSDP   0.368428 -0.092792 -0.139896   EP_NOHSDP"
      ]
     },
     "execution_count": 14,
     "metadata": {},
     "output_type": "execute_result"
    }
   ],
   "source": [
    "import matplotlib.pyplot as plt\n",
    "\n",
    "    \n",
    "pd.set_option(\"display.max_rows\", None)\n",
    "\n",
    "    #Load the principle components into a dataframe, setting the \n",
    "    #column headers from the dataframe as the indices \n",
    "loadings = pd.DataFrame(pca_instance.components_.T,index=missing.columns)\n",
    "\n",
    "loadings[\"var\"]=loadings.index\n",
    "    #Print the first three columns\n",
    "top_three_loading=loadings[[0,1,2,\"var\"]].sort_values(by=0)\n",
    "\n",
    "top_three_loading\n",
    "\n"
   ]
  },
  {
   "cell_type": "code",
   "execution_count": 15,
   "metadata": {},
   "outputs": [
    {
     "data": {
      "text/plain": [
       "([0, 1, 2, 3, 4, 5, 6, 7, 8, 9, 10, 11, 12, 13, 14, 15, 16],\n",
       " [Text(0, 0, 'EP_POV150'),\n",
       "  Text(1, 0, 'EP_UNEMP'),\n",
       "  Text(2, 0, 'EP_HBURD'),\n",
       "  Text(3, 0, 'EP_NOHSDP'),\n",
       "  Text(4, 0, 'EP_UNINSUR'),\n",
       "  Text(5, 0, 'EP_AGE65'),\n",
       "  Text(6, 0, 'EP_AGE17'),\n",
       "  Text(7, 0, 'EP_DISABL'),\n",
       "  Text(8, 0, 'EP_SNGPNT'),\n",
       "  Text(9, 0, 'EP_LIMENG'),\n",
       "  Text(10, 0, 'EP_MINRTY'),\n",
       "  Text(11, 0, 'EP_MUNIT'),\n",
       "  Text(12, 0, 'EP_MOBILE'),\n",
       "  Text(13, 0, 'EP_CROWD'),\n",
       "  Text(14, 0, 'EP_NOVEH'),\n",
       "  Text(15, 0, 'EP_GROUPQ'),\n",
       "  Text(16, 0, 'EP_NOINT')])"
      ]
     },
     "execution_count": 15,
     "metadata": {},
     "output_type": "execute_result"
    },
    {
     "data": {
      "image/png": "[encoded data removed]",
      "text/plain": [
       "<Figure size 640x480 with 1 Axes>"
      ]
     },
     "metadata": {},
     "output_type": "display_data"
    }
   ],
   "source": [
    "plt.title(\"PC #1\")\n",
    "plt.bar(loadings['var'],loadings[0])\n",
    "plt.xticks(rotation=90)"
   ]
  },
  {
   "cell_type": "markdown",
   "metadata": {},
   "source": [
    "PC #1 appears to indicate positive correlations with variables that include poverty rate, unemployment, poor English, etc. all of which we may reasonably expect to be correlated with general impoverished. \n",
    "PC #1 has a slight negative correlation with age\n"
   ]
  },
  {
   "cell_type": "code",
   "execution_count": 16,
   "metadata": {},
   "outputs": [
    {
     "data": {
      "text/plain": [
       "([0, 1, 2, 3, 4, 5, 6, 7, 8, 9, 10, 11, 12, 13, 14, 15, 16],\n",
       " [Text(0, 0, 'EP_POV150'),\n",
       "  Text(1, 0, 'EP_UNEMP'),\n",
       "  Text(2, 0, 'EP_HBURD'),\n",
       "  Text(3, 0, 'EP_NOHSDP'),\n",
       "  Text(4, 0, 'EP_UNINSUR'),\n",
       "  Text(5, 0, 'EP_AGE65'),\n",
       "  Text(6, 0, 'EP_AGE17'),\n",
       "  Text(7, 0, 'EP_DISABL'),\n",
       "  Text(8, 0, 'EP_SNGPNT'),\n",
       "  Text(9, 0, 'EP_LIMENG'),\n",
       "  Text(10, 0, 'EP_MINRTY'),\n",
       "  Text(11, 0, 'EP_MUNIT'),\n",
       "  Text(12, 0, 'EP_MOBILE'),\n",
       "  Text(13, 0, 'EP_CROWD'),\n",
       "  Text(14, 0, 'EP_NOVEH'),\n",
       "  Text(15, 0, 'EP_GROUPQ'),\n",
       "  Text(16, 0, 'EP_NOINT')])"
      ]
     },
     "execution_count": 16,
     "metadata": {},
     "output_type": "execute_result"
    },
    {
     "data": {
      "image/png": "[encoded data removed]",
      "text/plain": [
       "<Figure size 640x480 with 1 Axes>"
      ]
     },
     "metadata": {},
     "output_type": "display_data"
    }
   ],
   "source": [
    "plt.title(\"PC #2\")\n",
    "plt.bar(loadings['var'],loadings[1])\n",
    "plt.xticks(rotation=90)"
   ]
  },
  {
   "cell_type": "markdown",
   "metadata": {},
   "source": [
    "PC #2 seem to represent differenes in age groups. Younger persons tend to be more likely to be minority, live in larger buildings, speak English less well, etc.\n",
    "Older persons tend to be more disabled, live in smaller buildings, and not have internet access."
   ]
  },
  {
   "cell_type": "code",
   "execution_count": 17,
   "metadata": {},
   "outputs": [
    {
     "data": {
      "text/plain": [
       "([0, 1, 2, 3, 4, 5, 6, 7, 8, 9, 10, 11, 12, 13, 14, 15, 16],\n",
       " [Text(0, 0, 'EP_POV150'),\n",
       "  Text(1, 0, 'EP_UNEMP'),\n",
       "  Text(2, 0, 'EP_HBURD'),\n",
       "  Text(3, 0, 'EP_NOHSDP'),\n",
       "  Text(4, 0, 'EP_UNINSUR'),\n",
       "  Text(5, 0, 'EP_AGE65'),\n",
       "  Text(6, 0, 'EP_AGE17'),\n",
       "  Text(7, 0, 'EP_DISABL'),\n",
       "  Text(8, 0, 'EP_SNGPNT'),\n",
       "  Text(9, 0, 'EP_LIMENG'),\n",
       "  Text(10, 0, 'EP_MINRTY'),\n",
       "  Text(11, 0, 'EP_MUNIT'),\n",
       "  Text(12, 0, 'EP_MOBILE'),\n",
       "  Text(13, 0, 'EP_CROWD'),\n",
       "  Text(14, 0, 'EP_NOVEH'),\n",
       "  Text(15, 0, 'EP_GROUPQ'),\n",
       "  Text(16, 0, 'EP_NOINT')])"
      ]
     },
     "execution_count": 17,
     "metadata": {},
     "output_type": "execute_result"
    },
    {
     "data": {
      "image/png": "[encoded data removed]",
      "text/plain": [
       "<Figure size 640x480 with 1 Axes>"
      ]
     },
     "metadata": {},
     "output_type": "display_data"
    }
   ],
   "source": [
    "plt.title(\"PC #3\")\n",
    "plt.bar(loadings['var'],loadings[2])\n",
    "plt.xticks(rotation=90)"
   ]
  },
  {
   "cell_type": "markdown",
   "metadata": {},
   "source": [
    "PC #3 appears to represent households overly-burdened by housing costs (and low income more generally). This tends to be postively correlated with large buildings sizes (based on unit numbers), a high person-per unit measure, and no vehicle. \n",
    "This measures is negatively assosciated with youth. "
   ]
  },
  {
   "cell_type": "markdown",
   "metadata": {},
   "source": [
    "\n",
    "1. There are several different ways to determine the number of principal components to retain.\n",
    "One common method is to retain principal components that explain a certain percentage of the variance in the data.\n",
    "    a. How many principal components are needed to explain 80% of the variance in the data?\n",
    "    a. How many principal components are needed to explain 90% of the variance in the data?\n",
    "\n"
   ]
  },
  {
   "cell_type": "code",
   "execution_count": 18,
   "metadata": {},
   "outputs": [
    {
     "data": {
      "text/html": [
       "<div>\n",
       "<style scoped>\n",
       "    .dataframe tbody tr th:only-of-type {\n",
       "        vertical-align: middle;\n",
       "    }\n",
       "\n",
       "    .dataframe tbody tr th {\n",
       "        vertical-align: top;\n",
       "    }\n",
       "\n",
       "    .dataframe thead th {\n",
       "        text-align: right;\n",
       "    }\n",
       "</style>\n",
       "<table border=\"1\" class=\"dataframe\">\n",
       "  <thead>\n",
       "    <tr style=\"text-align: right;\">\n",
       "      <th></th>\n",
       "      <th>0</th>\n",
       "    </tr>\n",
       "  </thead>\n",
       "  <tbody>\n",
       "    <tr>\n",
       "      <th>0</th>\n",
       "      <td>0.282259</td>\n",
       "    </tr>\n",
       "    <tr>\n",
       "      <th>1</th>\n",
       "      <td>0.473965</td>\n",
       "    </tr>\n",
       "    <tr>\n",
       "      <th>2</th>\n",
       "      <td>0.582244</td>\n",
       "    </tr>\n",
       "    <tr>\n",
       "      <th>3</th>\n",
       "      <td>0.650275</td>\n",
       "    </tr>\n",
       "    <tr>\n",
       "      <th>4</th>\n",
       "      <td>0.709564</td>\n",
       "    </tr>\n",
       "    <tr>\n",
       "      <th>5</th>\n",
       "      <td>0.766767</td>\n",
       "    </tr>\n",
       "    <tr>\n",
       "      <th>6</th>\n",
       "      <td>0.803213</td>\n",
       "    </tr>\n",
       "    <tr>\n",
       "      <th>7</th>\n",
       "      <td>0.837468</td>\n",
       "    </tr>\n",
       "    <tr>\n",
       "      <th>8</th>\n",
       "      <td>0.866992</td>\n",
       "    </tr>\n",
       "    <tr>\n",
       "      <th>9</th>\n",
       "      <td>0.893244</td>\n",
       "    </tr>\n",
       "    <tr>\n",
       "      <th>10</th>\n",
       "      <td>0.917837</td>\n",
       "    </tr>\n",
       "    <tr>\n",
       "      <th>11</th>\n",
       "      <td>0.939215</td>\n",
       "    </tr>\n",
       "    <tr>\n",
       "      <th>12</th>\n",
       "      <td>0.956222</td>\n",
       "    </tr>\n",
       "    <tr>\n",
       "      <th>13</th>\n",
       "      <td>0.970673</td>\n",
       "    </tr>\n",
       "    <tr>\n",
       "      <th>14</th>\n",
       "      <td>0.982284</td>\n",
       "    </tr>\n",
       "  </tbody>\n",
       "</table>\n",
       "</div>"
      ],
      "text/plain": [
       "           0\n",
       "0   0.282259\n",
       "1   0.473965\n",
       "2   0.582244\n",
       "3   0.650275\n",
       "4   0.709564\n",
       "5   0.766767\n",
       "6   0.803213\n",
       "7   0.837468\n",
       "8   0.866992\n",
       "9   0.893244\n",
       "10  0.917837\n",
       "11  0.939215\n",
       "12  0.956222\n",
       "13  0.970673\n",
       "14  0.982284"
      ]
     },
     "execution_count": 18,
     "metadata": {},
     "output_type": "execute_result"
    }
   ],
   "source": [
    "\n",
    "    #Returns explained variance per principle component in  \n",
    "    #a Dataframe. Because everything is better in a dataframe. \n",
    "variance_absorbed=pd.DataFrame(pca_instance.explained_variance_ratio_)\n",
    "\n",
    "    #Outputs the explained variance per PC\n",
    "variance_absorbed.sort_values(by=0, ascending=False)\n",
    "\n",
    "    #Cumulative sum of the explained variance \n",
    "variance_absorbed.cumsum()"
   ]
  },
  {
   "cell_type": "markdown",
   "metadata": {},
   "source": [
    "\n",
    "Approximately 6 principle components are needed to explain 80% of the variance in the data. \n",
    "Approximately 9 principle components are needed to explain 90% of the variance in the data. \n",
    "\n",
    "1. An alternative approach is to plot the eigenvalues of the principal components and retain the components that are above the \"elbow\" in the plot. In other words the eigenvalues that are substantially larger than the rest.\n",
    "a. Create a [scree plot](https://en.wikipedia.org/wiki/Scree_plot) of the eigenvalues of the principal components.\n",
    "a. How many principal components should be retained based on the scree plot? This video may help: [PCA Scree Plot](https://youtu.be/vFUvNICWVz4?si=6NbyRcLRGT8L1HzI)\n",
    "\n"
   ]
  },
  {
   "cell_type": "code",
   "execution_count": 19,
   "metadata": {},
   "outputs": [
    {
     "data": {
      "text/plain": [
       "<matplotlib.lines.Line2D at 0x15fd2598210>"
      ]
     },
     "execution_count": 19,
     "metadata": {},
     "output_type": "execute_result"
    },
    {
     "data": {
      "image/png": "[encoded data removed]",
      "text/plain": [
       "<Figure size 640x480 with 1 Axes>"
      ]
     },
     "metadata": {},
     "output_type": "display_data"
    }
   ],
   "source": [
    "import matplotlib.pyplot as plt\n",
    "\n",
    "x=[1,2,3,4,5,6,7,8,9,10,11,12,13,14,15]\n",
    "variance_absorbed_ratio = pca_instance.explained_variance_ratio_\n",
    "\n",
    "plt.figure()\n",
    "plt.title(\"Scree Plot: PCA\")\n",
    "plt.plot(x,variance_absorbed)\n",
    "plt.axvline(x=4,color='r')"
   ]
  },
  {
   "cell_type": "markdown",
   "metadata": {},
   "source": [
    "\n",
    "The scree plot indicates that after 4 principle components, the explained variation per component begins to significantly decrease (the \"elbow\" method). Once could argue the true elbow is at 6 principle components. \n",
    "\n"
   ]
  },
  {
   "cell_type": "markdown",
   "metadata": {},
   "source": [
    "\n",
    "\n",
    "1. Cross-validation is another method to determine the number of principal components to retain.\n",
    "This process requires some linear algebra that is beyond the scope of this course.\n",
    "As such, I have written example [code](https://github.com/gabehassler/PRGS-Intro-to-ML-2024/blob/main/examples/pca_cross_validation.jl) in Julia that demonstrates how to perform cross-validation.\n",
    "This procedure is a simplified versionof an approach explained in this [blog post](https://alexhwilliams.info/itsneuronalblog/2018/02/26/crossval/).\n",
    "For the purposes of this assignment, the `pca_cv_error` function is a black box that returns the cross-validation error for a given number of principal components.\n",
    "_Note: If you use a different programming language, you can use ChatGPT to translate the code to your language of choice._\n",
    "    a. Compute the cross-validation error for 1 to 17 principal components. If this process is parallelizable, parallelize the code. If setting a random number seed would make this work more reproducible, set a random number seed.\n",
    "    a. How many principal components should be retained based on the cross-validation error?\n",
    "\n"
   ]
  },
  {
   "cell_type": "code",
   "execution_count": 20,
   "metadata": {},
   "outputs": [
    {
     "name": "stdout",
     "output_type": "stream",
     "text": [
      "Cross-validated errors for each k: [0.79465468 0.655849   0.60163636 0.58943241 0.57932817 0.55231729\n",
      " 0.56698867 0.57755727 0.59815474 0.6250221  0.65801943 0.69424517\n",
      " 0.74054224 0.7950426  0.85717561 0.92528242 1.        ]\n",
      "Optimal number of principal components: 6\n"
     ]
    }
   ],
   "source": [
    "    \n",
    "#The julia function pca_cv_error was translated to python using RANDChat \n",
    "\n",
    "import numpy as np\n",
    "import pandas as pd\n",
    "from numpy.linalg import svd\n",
    "\n",
    "    # Approximates the data matrix X using the first k principal components\n",
    "    # X must be standardized to have mean 0 and standard deviation 1\n",
    "def pca_approx(X, k):\n",
    "        U, S, Vt = svd(X, full_matrices=False)\n",
    "        Uk = U[:, :k]\n",
    "        Sk = np.diag(S[:k])\n",
    "        Vtk = Vt[:k, :]\n",
    "        return Uk @ Sk @ Vtk\n",
    "\n",
    "\n",
    "    # Computes the cross-validated error of approximating X using the first k principal components\n",
    "    # X must be standardized to have mean 0 and standard deviation 1\n",
    "def pca_cv_error(X, k, folds):\n",
    "\n",
    "        #X is the scaled data\n",
    "        #k is the number of folds. I'll select 10\n",
    "        #\n",
    "\n",
    "        fs = np.unique(folds)\n",
    "        means = np.mean(X, axis=0)\n",
    "        errs = np.zeros(len(fs))\n",
    "\n",
    "        for i, f in enumerate(fs):\n",
    "            X_cv = X.copy()\n",
    "            for j in range(X.shape[1]):\n",
    "                for i in range(X.shape[0]):\n",
    "                    if folds[i, j] == f:\n",
    "                        X_cv[i, j] = means[j]\n",
    "\n",
    "            X_hat = pca_approx(X_cv, k)\n",
    "            err = 0.0\n",
    "            for j in range(X.shape[1]):\n",
    "                for i in range(X.shape[0]):\n",
    "                    if folds[i, j] == f:\n",
    "                        err += (X_hat[i, j] - X[i, j]) ** 2\n",
    "            errs[f - 1] = err\n",
    "\n",
    "        return np.sum(errs) / X.size\n",
    "\n",
    "    # Load the data\n",
    "data = pd.read_csv(\"C:\\\\Users\\\\lschlake\\\\Documents\\\\2024-2025Courses\\\\PRGS-Intro-to-ML-2024-1\\\\data\\\\processed\\\\merged_data.csv\", na_values=\"NA\")\n",
    "\n",
    "    # Subset and clean the data\n",
    "vars = [\"EP_POV150\", \"EP_UNEMP\", \"EP_HBURD\", \"EP_NOHSDP\", \"EP_UNINSUR\", \n",
    "            \"EP_AGE65\", \"EP_AGE17\", \"EP_DISABL\", \"EP_SNGPNT\", \"EP_LIMENG\", \"EP_MINRTY\", \n",
    "            \"EP_MUNIT\", \"EP_MOBILE\", \"EP_CROWD\", \"EP_NOVEH\", \"EP_GROUPQ\", \"EP_NOINT\"]\n",
    "data_svi = data[vars].dropna()\n",
    "\n",
    "    # Convert the data to a matrix and standardize it\n",
    "X = data_svi.values\n",
    "mu = np.mean(X, axis=0)\n",
    "sd = np.std(X, axis=0)\n",
    "X = (X - mu) / sd\n",
    "\n",
    "    # Create a matrix of random folds\n",
    "n_folds = 20\n",
    "folds = np.random.randint(1, n_folds + 1, size=X.shape)\n",
    "\n",
    "    # Compute the cross-validated error of approximating X using the first k principal components for k = 1:17\n",
    "errors = np.zeros(17)\n",
    "for k in range(1, 18):\n",
    "        errors[k - 1] = pca_cv_error(X, k, folds)\n",
    "\n",
    "    # Determine the optimal number of principal components\n",
    "optimal_k = np.argmin(errors) + 1\n",
    "\n",
    "    # Output the errors and the optimal number of principal components\n",
    "print(\"Cross-validated errors for each k:\", errors)\n",
    "print(\"Optimal number of principal components:\", optimal_k)\n",
    "   \n"
   ]
  },
  {
   "cell_type": "markdown",
   "metadata": {},
   "source": [
    "My understanding of using CV for PCA is as follows: We want to select the optimal number of components that to explain variance in the data while not over-selecting components (comparable to over-fitting) and extending beyond the theoretical relationships in our data. One way to accomplish this is to simply evaluate the amount of explained variation (cumulative explained variation), or to observe the percent of variation explained by each component. CV is another approach. We: \n",
    "\n",
    "foreach x in range(1:17):\n",
    "1. use k-fold CV to partition the data between train and test splits\n",
    "2. Run PCA for x amount of components \n",
    "3. Aggregate (average) error on the runs\n",
    "\n",
    "This allows you to estimate how many components are needed to have the lowest error. The optimal number of principal components, based on the above function, is 6."
   ]
  }
 ],
 "metadata": {
  "kernelspec": {
   "display_name": "Python 3",
   "language": "python",
   "name": "python3"
  },
  "language_info": {
   "codemirror_mode": {
    "name": "ipython",
    "version": 3
   },
   "file_extension": ".py",
   "mimetype": "text/x-python",
   "name": "python",
   "nbconvert_exporter": "python",
   "pygments_lexer": "ipython3",
   "version": "3.11.9"
  }
 },
 "nbformat": 4,
 "nbformat_minor": 4
}
